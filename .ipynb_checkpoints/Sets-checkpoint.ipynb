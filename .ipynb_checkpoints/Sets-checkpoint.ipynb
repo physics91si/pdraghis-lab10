{
 "cells": [
  {
   "cell_type": "code",
   "execution_count": null,
   "metadata": {
    "collapsed": true
   },
   "outputs": [],
   "source": [
    "class Set(list):\n",
    "    def __init__(self):\n",
    "        self.list=[]\n",
    "    def __add__(self, obj):\n",
    "        if obj not in self.list:\n",
    "            self.list.append(obj)\n",
    "    def __remove__(self, obj):\n",
    "        if obj in self.list:\n",
    "            self.list=self.list[0:self.list.index(obj)]+self.list[self.list.index(obj)+1:]\n",
    "    def __size__(self):\n",
    "        return len(self.list)\n",
    "    def __or__ (self, SetB):\n",
    "        union=self.list\n",
    "        for i in range(len(SetB.list)):\n",
    "            if (SetB.list[i]) not in self.list:\n",
    "                union.append(SetB.list[i])\n",
    "        return union\n",
    "    def __and__ (self, SetB):\n",
    "        inter=[]\n",
    "        for i in range(len(SetB.list)):\n",
    "            if (SetB.list[i]) in self.list:\n",
    "                inter.append(SetB.list[i])\n",
    "        return inter\n",
    "    def __subtr__(self, SetB):\n",
    "        sub=[]\n",
    "        for i in self.list:\n",
    "            if i not in SetB.list:\n",
    "                sub.append(i)\n",
    "        return sub\n",
    "        "
   ]
  }
 ],
 "metadata": {
  "kernelspec": {
   "display_name": "Python 2",
   "language": "python",
   "name": "python2"
  },
  "language_info": {
   "codemirror_mode": {
    "name": "ipython",
    "version": 2
   },
   "file_extension": ".py",
   "mimetype": "text/x-python",
   "name": "python",
   "nbconvert_exporter": "python",
   "pygments_lexer": "ipython2",
   "version": "2.7.11"
  }
 },
 "nbformat": 4,
 "nbformat_minor": 0
}
