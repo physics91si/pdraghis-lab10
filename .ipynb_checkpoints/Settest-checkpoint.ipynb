{
 "cells": [
  {
   "cell_type": "code",
   "execution_count": 106,
   "metadata": {
    "collapsed": false
   },
   "outputs": [],
   "source": [
    "class Set(list):\n",
    "    def __init__(self):\n",
    "        self.list=[]\n",
    "    def __add__(self, obj):\n",
    "        if obj not in self.list:\n",
    "            self.list.append(obj)\n",
    "    def __remove__(self, obj):\n",
    "        if obj in self.list:\n",
    "            self.list=self.list[0:self.list.index(obj)]+self.list[self.list.index(obj)+1:]\n",
    "    def __size__(self):\n",
    "        return len(self.list)\n",
    "    def __or__ (self, SetB):\n",
    "        union=self.list\n",
    "        for i in range(len(SetB.list)):\n",
    "            if (SetB.list[i]) not in self.list:\n",
    "                union.append(SetB.list[i])\n",
    "        return union\n",
    "    def __and__ (self, SetB):\n",
    "        inter=[]\n",
    "        for i in range(len(SetB.list)):\n",
    "            if (SetB.list[i]) in self.list:\n",
    "                inter.append(SetB.list[i])\n",
    "        return inter\n",
    "    def __subtr__(self, SetB):\n",
    "        sub=[]\n",
    "        for i in self.list:\n",
    "            if i not in SetB.list:\n",
    "                sub.append(i)\n",
    "        return sub\n",
    "        \n"
   ]
  },
  {
   "cell_type": "code",
   "execution_count": 107,
   "metadata": {
    "collapsed": false
   },
   "outputs": [],
   "source": [
    "a = Set()\n",
    "#a.__add__(5)"
   ]
  },
  {
   "cell_type": "code",
   "execution_count": 114,
   "metadata": {
    "collapsed": true
   },
   "outputs": [],
   "source": [
    "a.__add__(3)"
   ]
  },
  {
   "cell_type": "code",
   "execution_count": 109,
   "metadata": {
    "collapsed": false
   },
   "outputs": [
    {
     "data": {
      "text/plain": [
       "1"
      ]
     },
     "execution_count": 109,
     "metadata": {},
     "output_type": "execute_result"
    }
   ],
   "source": [
    "a.__size__()"
   ]
  },
  {
   "cell_type": "code",
   "execution_count": null,
   "metadata": {
    "collapsed": true
   },
   "outputs": [],
   "source": []
  },
  {
   "cell_type": "code",
   "execution_count": 110,
   "metadata": {
    "collapsed": true
   },
   "outputs": [],
   "source": [
    "b=Set()\n",
    "b.__add__(4)"
   ]
  },
  {
   "cell_type": "code",
   "execution_count": 111,
   "metadata": {
    "collapsed": false
   },
   "outputs": [
    {
     "data": {
      "text/plain": [
       "[3, 4]"
      ]
     },
     "execution_count": 111,
     "metadata": {},
     "output_type": "execute_result"
    }
   ],
   "source": [
    "a.__or__(b)"
   ]
  },
  {
   "cell_type": "code",
   "execution_count": 115,
   "metadata": {
    "collapsed": false
   },
   "outputs": [
    {
     "data": {
      "text/plain": [
       "2"
      ]
     },
     "execution_count": 115,
     "metadata": {},
     "output_type": "execute_result"
    }
   ],
   "source": [
    "a.__size__()"
   ]
  },
  {
   "cell_type": "code",
   "execution_count": null,
   "metadata": {
    "collapsed": true
   },
   "outputs": [],
   "source": [
    "a."
   ]
  }
 ],
 "metadata": {
  "kernelspec": {
   "display_name": "Python 2",
   "language": "python",
   "name": "python2"
  },
  "language_info": {
   "codemirror_mode": {
    "name": "ipython",
    "version": 2
   },
   "file_extension": ".py",
   "mimetype": "text/x-python",
   "name": "python",
   "nbconvert_exporter": "python",
   "pygments_lexer": "ipython2",
   "version": "2.7.11"
  }
 },
 "nbformat": 4,
 "nbformat_minor": 0
}
